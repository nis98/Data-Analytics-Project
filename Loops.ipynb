{
 "cells": [
  {
   "cell_type": "code",
   "execution_count": 5,
   "id": "c8463870",
   "metadata": {},
   "outputs": [
    {
     "name": "stdout",
     "output_type": "stream",
     "text": [
      "Enter the sides of the triangle (separate by a space): 1 1 1\n",
      "The triangle type is 3 (Equilateral).\n"
     ]
    }
   ],
   "source": [
    "def classify_triangle(side1, side2, side3):\n",
    "    if side1 <= 0 or side2 <= 0 or side3 <= 0 or side1 >= side2 + side3 or side2 >= side1 + side3 or side3 >= side1 + side2:\n",
    "        return 0  # Not a triangle\n",
    "    elif side1 != side2 and side2 != side3 and side1 != side3:\n",
    "        return 1  # Scalene\n",
    "    elif side1 == side2 == side3:\n",
    "        return 3  # Equilateral\n",
    "    else:\n",
    "        return 2  # Isosceles\n",
    "\n",
    "while True:\n",
    "    try:\n",
    "        sides = map(int, input(\"Enter the sides of the triangle (separate by a space): \").split())\n",
    "        side1, side2, side3 = sides\n",
    "\n",
    "        triangle_type = classify_triangle(side1, side2, side3)\n",
    "\n",
    "        if triangle_type == 0:\n",
    "            print(\"That's not a triangle - try again.\")\n",
    "        else:\n",
    "            print(f\"The triangle type is {triangle_type} ({'Scalene' if triangle_type == 1 else 'Equilateral' if triangle_type == 3 else 'Isosceles'}).\")\n",
    "            break\n",
    "    except ValueError:\n",
    "        print(\"Invalid input. Please enter three integer values.\")\n"
   ]
  },
  {
   "cell_type": "code",
   "execution_count": 7,
   "id": "72b41aaf",
   "metadata": {},
   "outputs": [
    {
     "name": "stdout",
     "output_type": "stream",
     "text": [
      "How many days is the book late?: 2\n",
      "The total fine is: $1.50\n"
     ]
    }
   ],
   "source": [
    "def calculate_fine(days):\n",
    "    if days < 0:\n",
    "        return \"Days cannot be negative.\"\n",
    "    elif days == 0:\n",
    "        return \"$0.00\"\n",
    "    elif days == 1:\n",
    "        return \"$1.00\"\n",
    "    else:\n",
    "        return f\"${1 + 0.5 * (days - 1):.2f}\"\n",
    "\n",
    "while True:\n",
    "    days = int(input(\"How many days is the book late?: \"))\n",
    "    fine = calculate_fine(days)\n",
    "    if fine == \"Days cannot be negative.\":\n",
    "        print(fine, \"Try again.\")\n",
    "    else:\n",
    "        print(\"The total fine is:\", fine)\n",
    "        break\n"
   ]
  },
  {
   "cell_type": "code",
   "execution_count": null,
   "id": "3d845c75",
   "metadata": {},
   "outputs": [],
   "source": []
  }
 ],
 "metadata": {
  "kernelspec": {
   "display_name": "Python 3 (ipykernel)",
   "language": "python",
   "name": "python3"
  },
  "language_info": {
   "codemirror_mode": {
    "name": "ipython",
    "version": 3
   },
   "file_extension": ".py",
   "mimetype": "text/x-python",
   "name": "python",
   "nbconvert_exporter": "python",
   "pygments_lexer": "ipython3",
   "version": "3.11.5"
  }
 },
 "nbformat": 4,
 "nbformat_minor": 5
}
