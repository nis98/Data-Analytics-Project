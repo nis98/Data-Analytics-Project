{
 "cells": [
  {
   "cell_type": "markdown",
   "id": "91fdada8-62f1-48d7-aa87-c68489dcb91c",
   "metadata": {},
   "source": [
    "Installing The Required Libraries"
   ]
  },
  {
   "cell_type": "code",
   "execution_count": null,
   "id": "ac368ff7-1c5e-43e3-9e20-ac6843b57389",
   "metadata": {},
   "outputs": [],
   "source": [
    "pip install psycopg2-binary"
   ]
  },
  {
   "cell_type": "code",
   "execution_count": null,
   "id": "0d8127a3-eb23-454b-b87b-fec8b9417227",
   "metadata": {},
   "outputs": [],
   "source": [
    "pip install IMDbPY"
   ]
  },
  {
   "cell_type": "code",
   "execution_count": null,
   "id": "7ab6439c-46fb-422c-a40b-699d4cb12054",
   "metadata": {},
   "outputs": [],
   "source": [
    "pip install langchain"
   ]
  },
  {
   "cell_type": "code",
   "execution_count": null,
   "id": "5edeb8f9-fb65-45ac-b64f-6878b44a6473",
   "metadata": {},
   "outputs": [],
   "source": [
    "pip install -qU langchain-openai"
   ]
  },
  {
   "cell_type": "code",
   "execution_count": null,
   "id": "1d6a372e-6811-4509-ac68-a63bb88d7dad",
   "metadata": {},
   "outputs": [],
   "source": [
    "pip install --quiet langchain langchain_core"
   ]
  },
  {
   "cell_type": "code",
   "execution_count": null,
   "id": "525f039a-db5b-428e-a615-38586b051e80",
   "metadata": {},
   "outputs": [],
   "source": [
    "pip install --quiet langchain_text_splitters"
   ]
  },
  {
   "cell_type": "code",
   "execution_count": null,
   "id": "2a0312cd-db15-4131-ac2c-534760cdeb06",
   "metadata": {},
   "outputs": [],
   "source": [
    "pip install --quiet faiss-cpu"
   ]
  },
  {
   "cell_type": "code",
   "execution_count": null,
   "id": "23e410b5-d930-4574-854d-a2581912c3e6",
   "metadata": {},
   "outputs": [],
   "source": [
    "pip install --quiet langchain docarray tiktoken langchain_openai"
   ]
  },
  {
   "cell_type": "code",
   "execution_count": 35,
   "id": "024d5fa6-af2c-45c4-b428-c60b2fddef1a",
   "metadata": {},
   "outputs": [
    {
     "name": "stdout",
     "output_type": "stream",
     "text": [
      "Defaulting to user installation because normal site-packages is not writeable\n",
      "Requirement already satisfied: openai in c:\\users\\ashyw\\appdata\\roaming\\python\\python311\\site-packages (1.23.2)\n",
      "Requirement already satisfied: anyio<5,>=3.5.0 in c:\\programdata\\anaconda3\\lib\\site-packages (from openai) (4.2.0)\n",
      "Requirement already satisfied: distro<2,>=1.7.0 in c:\\programdata\\anaconda3\\lib\\site-packages (from openai) (1.8.0)\n",
      "Requirement already satisfied: httpx<1,>=0.23.0 in c:\\users\\ashyw\\appdata\\roaming\\python\\python311\\site-packages (from openai) (0.27.0)\n",
      "Requirement already satisfied: pydantic<3,>=1.9.0 in c:\\programdata\\anaconda3\\lib\\site-packages (from openai) (1.10.12)\n",
      "Requirement already satisfied: sniffio in c:\\programdata\\anaconda3\\lib\\site-packages (from openai) (1.3.0)\n",
      "Requirement already satisfied: tqdm>4 in c:\\programdata\\anaconda3\\lib\\site-packages (from openai) (4.65.0)\n",
      "Requirement already satisfied: typing-extensions<5,>=4.7 in c:\\programdata\\anaconda3\\lib\\site-packages (from openai) (4.9.0)\n",
      "Requirement already satisfied: idna>=2.8 in c:\\programdata\\anaconda3\\lib\\site-packages (from anyio<5,>=3.5.0->openai) (3.4)\n",
      "Requirement already satisfied: certifi in c:\\programdata\\anaconda3\\lib\\site-packages (from httpx<1,>=0.23.0->openai) (2024.2.2)\n",
      "Requirement already satisfied: httpcore==1.* in c:\\users\\ashyw\\appdata\\roaming\\python\\python311\\site-packages (from httpx<1,>=0.23.0->openai) (1.0.5)\n",
      "Requirement already satisfied: h11<0.15,>=0.13 in c:\\users\\ashyw\\appdata\\roaming\\python\\python311\\site-packages (from httpcore==1.*->httpx<1,>=0.23.0->openai) (0.14.0)\n",
      "Requirement already satisfied: colorama in c:\\programdata\\anaconda3\\lib\\site-packages (from tqdm>4->openai) (0.4.6)\n",
      "Note: you may need to restart the kernel to use updated packages.\n"
     ]
    }
   ],
   "source": [
    "pip install --upgrade openai"
   ]
  },
  {
   "cell_type": "markdown",
   "id": "a88b8592-6fae-4436-8813-acba79cbe758",
   "metadata": {},
   "source": [
    "# SQL Database Retreval"
   ]
  },
  {
   "cell_type": "code",
   "execution_count": 3,
   "id": "dcd4550e-df94-4267-a6ac-2ba2fa689eff",
   "metadata": {},
   "outputs": [],
   "source": [
    "import psycopg2\n",
    "\n",
    "def get_movie_data(movie_name):\n",
    "    conn = None\n",
    "    try:\n",
    "        conn = psycopg2.connect(host=\"localhost\", database=\"Project_DB\", user=\"postgres\", password=\"AS@5198974se\")\n",
    "        cursor = conn.cursor()\n",
    "        query = 'SELECT \"Rating\", \"Watched_Status\" FROM \"Movie_List\" WHERE \"Movie_Name\" = %s'\n",
    "        cursor.execute(query, (movie_name,))\n",
    "        data = cursor.fetchall()\n",
    "        if data:\n",
    "            return [str(d) if d is not None else 'N/A' for d in data[0]]\n",
    "        return ['N/A', 'N/A']\n",
    "    finally:\n",
    "        if conn:\n",
    "            conn.close()"
   ]
  },
  {
   "cell_type": "markdown",
   "id": "50897ee2-17d8-4ac2-b1ac-8f914c0ac1ad",
   "metadata": {},
   "source": [
    "# IMDB Website Database Retrival"
   ]
  },
  {
   "cell_type": "code",
   "execution_count": 4,
   "id": "996fc033-2737-4e86-8633-9b4d98297457",
   "metadata": {},
   "outputs": [],
   "source": [
    "from imdb import IMDb\n",
    "\n",
    "def get_movie_details(movie_name):\n",
    "    ia = IMDb()\n",
    "    search_results = ia.search_movie(movie_name)\n",
    "    if search_results:\n",
    "        movie = ia.get_movie(search_results[0].movieID)\n",
    "        ia.update(movie, 'full credits')  # Get full credits for detailed cast info\n",
    "        cast = ', '.join(str(person) for person in movie.get('cast', [])[:5])  # Safely convert cast members to string\n",
    "        return {\n",
    "            \"title\": str(movie.get('title', 'N/A')),\n",
    "            \"year\": str(movie.get('year', 'N/A')),\n",
    "            \"directors\": ', '.join(str(d) for d in movie.get('directors', [])),\n",
    "            \"genres\": ', '.join(str(g) for g in movie.get('genres', [])),\n",
    "            \"cast\": cast\n",
    "        }"
   ]
  },
  {
   "cell_type": "markdown",
   "id": "e299040c-92a7-4c27-af8b-db39165b9d7d",
   "metadata": {},
   "source": [
    "# Langchain Components"
   ]
  },
  {
   "cell_type": "code",
   "execution_count": 23,
   "id": "dca26454-54ba-426b-88f7-758a485c11f8",
   "metadata": {},
   "outputs": [
    {
     "name": "stdout",
     "output_type": "stream",
     "text": [
      "Based on the 4.0 rating and the fact that the movie has not been watched, it seems that \"Lou\" has received positive critical reception. The film likely explores a mix of genres, including action, adventure, crime, drama, mystery, and thriller, which suggests a complex and engaging plot. \n",
      "\n",
      "The main themes of \"Lou\" could include elements of mystery and crime, as well as themes of adventure and action. The diverse genres suggest a multi-layered storyline that may involve a thrilling mystery, high-stakes crime, and intense drama. The talented cast, including Allison Janney, Jurnee Smollett, and Logan Marshall-Green, further indicates that the film likely offers strong performances and engaging characters. Overall, \"Lou\" appears to be a well-received movie that promises an exciting and suspenseful viewing experience.\n"
     ]
    }
   ],
   "source": [
    "from langchain_community.vectorstores import FAISS\n",
    "from langchain_core.output_parsers import StrOutputParser\n",
    "from langchain_core.prompts import ChatPromptTemplate\n",
    "from langchain_core.runnables import RunnableParallel, RunnablePassthrough\n",
    "from langchain_openai.chat_models import ChatOpenAI\n",
    "from langchain_openai.embeddings import OpenAIEmbeddings\n",
    "\n",
    "# Initialize Langchain components\n",
    "openai_api_key = \"sk-proj-P5QDwA3CwNApQYtepeYLT3BlbkFJ6T6yssZpdA8HLGp2LSwy\"\n",
    "embeddings = OpenAIEmbeddings(openai_api_key=openai_api_key)\n",
    "model = ChatOpenAI(openai_api_key=openai_api_key)\n",
    "output_parser = StrOutputParser()\n",
    "\n",
    "# FAISS Index setup\n",
    "dimension = 768  # This needs to match the output dimension of the embedding model\n",
    "index = faiss.IndexFlatL2(dimension)\n",
    "docstore = {}\n",
    "\n",
    "# Add vectorizing code\n",
    "def vectorize_data(text):\n",
    "    \"\"\"Vectorize the text data and store it in FAISS index but do not execute this automatically.\"\"\"\n",
    "    embeddings = generate_embeddings(text)\n",
    "    if embeddings.ndim == 1:\n",
    "        embeddings = np.expand_dims(embeddings, axis=0)\n",
    "    index.add(embeddings)  # Add to FAISS index\n",
    "\n",
    "def generate_embeddings(text):\n",
    "    \"\"\"Generate embeddings from text.\"\"\"\n",
    "    return np.array(embeddings.embed_documents(text))\n",
    "\n",
    "# Define prompt template\n",
    "template = \"\"\"Please analyze the movie based on the following details:\n",
    "Movie Title: {title}\n",
    "Year: {year}\n",
    "Genres: {genres}\n",
    "Cast: {cast}\n",
    "Directors: {directors}\n",
    "Rating: {rating}\n",
    "Watched Status: {watched_status}\n",
    "Given this information, summarize the critical reception (based on rating out of 5 and watched status) and discuss the main themes of the film.\"\"\"\n",
    "\n",
    "prompt = ChatPromptTemplate.from_template(template)\n",
    "\n",
    "# Setup Langchain pipeline correctly\n",
    "setup_and_retrieval = RunnablePassthrough()\n",
    "chain = setup_and_retrieval | prompt | model | output_parser\n",
    "\n",
    "def answer_movie_question(movie_name):\n",
    "    movie_details = get_movie_details(movie_name)\n",
    "    movie_data = get_movie_data(movie_name)\n",
    "\n",
    "    if not movie_details or not movie_data:\n",
    "        return \"Movie details or data not found.\"\n",
    "\n",
    "    # Prepare the context with all necessary details\n",
    "    context = {\n",
    "        \"title\": movie_details['title'],\n",
    "        \"year\": movie_details['year'],\n",
    "        \"genres\": movie_details['genres'],\n",
    "        \"cast\": movie_details['cast'],\n",
    "        \"directors\": movie_details['directors'],\n",
    "        \"rating\": movie_data[0] if movie_data else 'N/A',\n",
    "        \"watched_status\": movie_data[1] if len(movie_data) > 1 else 'N/A'\n",
    "    }\n",
    "\n",
    "    try:\n",
    "        # Invoke the chain with the context\n",
    "        response = chain.invoke(context)  # The context now contains all required details for the template\n",
    "        return response\n",
    "    except Exception as e:\n",
    "        return f\"Error processing the query: {str(e)}\"\n",
    "\n",
    "# Example usage\n",
    "print(answer_movie_question(\"Lou\"))"
   ]
  },
  {
   "cell_type": "code",
   "execution_count": null,
   "id": "d75ee8e3-5009-4bab-be31-842e75a777c3",
   "metadata": {},
   "outputs": [],
   "source": []
  }
 ],
 "metadata": {
  "kernelspec": {
   "display_name": "Python 3 (ipykernel)",
   "language": "python",
   "name": "python3"
  },
  "language_info": {
   "codemirror_mode": {
    "name": "ipython",
    "version": 3
   },
   "file_extension": ".py",
   "mimetype": "text/x-python",
   "name": "python",
   "nbconvert_exporter": "python",
   "pygments_lexer": "ipython3",
   "version": "3.11.7"
  }
 },
 "nbformat": 4,
 "nbformat_minor": 5
}
